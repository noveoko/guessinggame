{
 "cells": [
  {
   "cell_type": "code",
   "execution_count": 7,
   "metadata": {},
   "outputs": [],
   "source": [
    "import os, dis, time\n",
    "import random\n",
    "import easygui as eg\n",
    "import glob\n",
    "import pygame"
   ]
  },
  {
   "cell_type": "code",
   "execution_count": 8,
   "metadata": {},
   "outputs": [],
   "source": [
    "def namepath(path):\n",
    "    path = path\n",
    "    name = path.split('/')[1]\n",
    "    name = name.split('ID')[0]\n",
    "    name = name.replace('_', ' ')\n",
    "    return (name, path)\n",
    "\n",
    "ponys = [namepath(a) for a in glob.glob(\"images/*.png\")]"
   ]
  },
  {
   "cell_type": "code",
   "execution_count": 9,
   "metadata": {},
   "outputs": [],
   "source": [
    "def loadpony():\n",
    "    gname, image = random.choice(ponys)\n",
    "    wrongname = random.choice([a[0] for a in ponys if a is not gname])\n",
    "    wrongname2 = random.choice([a[0] for a in ponys if a is not gname and a is not wrongname])\n",
    "    return {'gname':gname,'image':image,'wrongname':wrongname,'wrongname2':wrongname2}\n",
    "\n",
    "\n",
    "def result(verdict='lose'):\n",
    "    if verdict == 'lose':\n",
    "        msg = \"Sorry you don't know that Pony!\"\n",
    "        choices = [\"Play Again!\",\"QUIT!\"]\n",
    "        sound(verdict='lose')\n",
    "        reply = eg.buttonbox(msg, image='results/lose.png', choices=choices)\n",
    "        if reply == 'Play Again!':\n",
    "            playagame(status='onemore')\n",
    "        else:\n",
    "            playagame(status='quit')\n",
    "\n",
    "    elif verdict == 'win':\n",
    "        msg = \"Yay! You guessed correctly!\"\n",
    "        choices = [\"Play Again!\",\"QUIT!\"]\n",
    "        sound(verdict='win')\n",
    "        reply = eg.buttonbox(msg, image='results/win.png', choices=choices)\n",
    "        if reply == 'Play Again!':\n",
    "            playagame(status='onemore')\n",
    "        else:\n",
    "            playagame(status='quit')\n",
    "               \n",
    "    else:\n",
    "        print('Error: No verdict provided!')\n",
    "    \n",
    "\n",
    "def zround():\n",
    "    data = loadpony()\n",
    "    msg = \"Choose the correct pony by name!\"\n",
    "    #buttons = random.shuffle([data['gname'], data['wrongname']])\n",
    "    choices = [data['gname'],data['wrongname'],data['wrongname2']]\n",
    "    image = data['image']\n",
    "    reply = eg.buttonbox(msg, image=image, choices=choices)\n",
    "    if reply == data['gname']:\n",
    "        result('win')\n",
    "    if reply != data['gname']:\n",
    "        result('lose')\n",
    "               \n",
    "def sound(verdict='win'):\n",
    "    pygame.init()\n",
    "    if verdict == 'win':\n",
    "        pygame.mixer.music.load(\"sounds/win.mp3\")\n",
    "        pygame.mixer.music.play()\n",
    "    else:\n",
    "        pygame.mixer.music.load(\"sounds/lose.mp3\")\n",
    "        pygame.mixer.music.play()\n",
    "    #time.sleep(10)\n",
    "    \n",
    "def playagame(status='onemore'):\n",
    "    if status == 'onemore':\n",
    "        zround()\n",
    "    elif status == 'quit':\n",
    "        exit\n",
    "    else:\n",
    "        exit"
   ]
  },
  {
   "cell_type": "code",
   "execution_count": 10,
   "metadata": {},
   "outputs": [],
   "source": [
    "playagame()"
   ]
  },
  {
   "cell_type": "code",
   "execution_count": null,
   "metadata": {
    "collapsed": true
   },
   "outputs": [],
   "source": []
  }
 ],
 "metadata": {
  "kernelspec": {
   "display_name": "Python 3",
   "language": "python",
   "name": "python3"
  },
  "language_info": {
   "codemirror_mode": {
    "name": "ipython",
    "version": 3
   },
   "file_extension": ".py",
   "mimetype": "text/x-python",
   "name": "python",
   "nbconvert_exporter": "python",
   "pygments_lexer": "ipython3",
   "version": "3.6.2"
  }
 },
 "nbformat": 4,
 "nbformat_minor": 2
}
